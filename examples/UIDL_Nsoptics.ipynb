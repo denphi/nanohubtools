{
 "cells": [
  {
   "cell_type": "markdown",
   "metadata": {},
   "source": [
    "## Importing libraries"
   ]
  },
  {
   "cell_type": "code",
   "execution_count": 1,
   "metadata": {},
   "outputs": [],
   "source": [
    "import sys\n",
    "import json\n",
    "sys.path.insert(0, \"./nanohubtools\") ## Under develpoment branch\n",
    "#from nanohubtools import *\n",
    "import uidl.teleport as t\n",
    "from uidl.plotly import PlotlyBuilder\n",
    "from uidl.rappture import RapptureBuilder\n",
    "from uidl.material import MaterialBuilder\n",
    "from uidl.material import MaterialContent\n",
    "from uidl.app import AppBuilder\n",
    "\n",
    "from uidl.nanohub import Auth\n",
    "TOOLNAME=\"nsoptics\"\n",
    "STATE_LOADER_STATUS = \"loader_status\"\n",
    "STATE_LOADER_OPEN = \"loader_open\"\n",
    "STATE_ERROR_STATUS = \"error_status\"\n",
    "STATE_ERROR_OPEN = \"error_open\"\n"
   ]
  },
  {
   "cell_type": "markdown",
   "metadata": {},
   "source": [
    "## Creating the project and adding GUI variables "
   ]
  },
  {
   "cell_type": "code",
   "execution_count": 2,
   "metadata": {},
   "outputs": [],
   "source": [
    "Project = t.TeleportProject(\"Nanosphere Optics Lab\")\n",
    "Component = Project.root\n",
    "Component.addStateVariable(\"DrawerIsVisible\", {\"type\":\"boolean\", \"defaultValue\": True})\n",
    "Component.addStateVariable(\"AppBarStyle\", {\"type\":\"string\", \"defaultValue\": \"bar_shifted\"})\n",
    "Component.addStateVariable(\"open_results\", {\"type\":\"boolean\", \"defaultValue\": False})\n",
    "Component.addStateVariable(\"open_params\", {\"type\":\"boolean\", \"defaultValue\": True})"
   ]
  },
  {
   "cell_type": "markdown",
   "metadata": {},
   "source": [
    "## Getting session information"
   ]
  },
  {
   "cell_type": "code",
   "execution_count": 3,
   "metadata": {},
   "outputs": [],
   "source": [
    "import os\n",
    "auth_data = {\n",
    "    'grant_type' : 'tool',\n",
    "}\n",
    "with open(os.environ[\"SESSIONDIR\"]+\"/resources\") as file:\n",
    "    lines = [line.split(\" \", 1) for line in file.readlines()]\n",
    "    properties = {line[0].strip(): line[1].strip() for line in lines if len(line)==2}\n",
    "    auth_data[\"sessiontoken\"] = properties[\"session_token\"]\n",
    "    auth_data[\"sessionnum\"] = properties[\"sessionid\"]"
   ]
  },
  {
   "cell_type": "markdown",
   "metadata": {},
   "source": [
    "## Creating Error"
   ]
  },
  {
   "cell_type": "code",
   "execution_count": 4,
   "metadata": {},
   "outputs": [],
   "source": [
    "ErrorMessage = RapptureBuilder.Error( \n",
    "    Component, \n",
    "    error_status = STATE_ERROR_STATUS,\n",
    "    error_open = STATE_ERROR_OPEN,\n",
    ")"
   ]
  },
  {
   "cell_type": "markdown",
   "metadata": {},
   "source": [
    "## Creating Loader"
   ]
  },
  {
   "cell_type": "code",
   "execution_count": 5,
   "metadata": {},
   "outputs": [],
   "source": [
    "Loader = RapptureBuilder.Loader( \n",
    "    Component, \n",
    "    loader_status = STATE_LOADER_STATUS,\n",
    "    loader_open = STATE_LOADER_OPEN,\n",
    ")"
   ]
  },
  {
   "cell_type": "markdown",
   "metadata": {},
   "source": [
    "## Create Tool Schema"
   ]
  },
  {
   "cell_type": "code",
   "execution_count": 6,
   "metadata": {},
   "outputs": [],
   "source": [
    "RapptureBuilder.buildSchema(\n",
    "    Project,\n",
    "    Component,\n",
    "    url = \"https://nanohub.org/api/tools\",\n",
    "    toolname = TOOLNAME\n",
    ")\n",
    "Component.addPropVariable(\"onLoadSchema\", {\"type\":\"func\", 'defaultValue' : '(e)=>{e.setState({\"'+ STATE_LOADER_OPEN +'\":false})}'})    "
   ]
  },
  {
   "cell_type": "markdown",
   "metadata": {},
   "source": [
    "## Create Session Authentication"
   ]
  },
  {
   "cell_type": "code",
   "execution_count": 7,
   "metadata": {},
   "outputs": [],
   "source": [
    "Login, CLogin = Auth.Session(\n",
    "    Project,\n",
    "    Component,\n",
    "    sessiontoken = auth_data[\"sessiontoken\"],\n",
    "    sessionnum = auth_data[\"sessionnum\"],\n",
    "    url = \"https://dev.nanohub.org/api/querycache/squidlog/proxy?url=https://nanohub.org/api/developer/oauth/token\",   \n",
    ")\n",
    "Login.content.events[\"onError\"]=[\n",
    "    { \"type\": \"stateChange\", \"modifies\": STATE_ERROR_OPEN, \"newState\": True},\n",
    "    { \"type\": \"stateChange\", \"modifies\": STATE_ERROR_STATUS, \"newState\": '$e'},\n",
    "]\n",
    "Login.content.events[\"onAuth\"] = [\n",
    "    { \"type\": \"propCall2\", \"calls\": \"buildSchema\", \"args\": ['self'] }            \n",
    "]\n"
   ]
  },
  {
   "cell_type": "code",
   "execution_count": 8,
   "metadata": {},
   "outputs": [],
   "source": [
    "Drawer = MaterialBuilder.Drawer(Project, state=\"DrawerIsVisible\", variant=\"persistent\" )"
   ]
  },
  {
   "cell_type": "markdown",
   "metadata": {},
   "source": [
    "## Defining Input Parameters"
   ]
  },
  {
   "cell_type": "code",
   "execution_count": 9,
   "metadata": {
    "scrolled": false
   },
   "outputs": [],
   "source": [
    "SETTINGS = {\n",
    "    \"mat\" :    {\n",
    "        \"type\":\"Select\",\n",
    "        \"default_value\": \"Au-Gold\", \n",
    "        \"units\" : \"\", \n",
    "        \"options\" : {\"Au-Gold\":\"Au-Gold\", \"Ag-Silver\":\"Ag-Silver\", \"Constant\":\"Constant\" },\n",
    "        \"label\" : \"Particle Composition\",\n",
    "        \"description\" : '''Choose a material for the particles. The material selection determines the dielectric \n",
    "            properties of the nanoparticle. If 'Constant' is selected the material is assumed to be free of loss \n",
    "            and the dielectric constant is assumed to be independent of wavelength. ''',\n",
    "    },\n",
    "    \"cindex\" : {\n",
    "        \"type\":\"Number\",\n",
    "        \"default_value\": 1.4, \n",
    "        \"units\" : \"\", \n",
    "        \"options\":{},\n",
    "        \"label\" : \"Particle Refractive Index\", \n",
    "        \"description\" : '''Enter the refractive index of the particle.''', \n",
    "        \"restrictions\" : {\"mat\":\"Constant\"}\n",
    "    },\n",
    "    \"refmed\" : {\n",
    "        \"type\":\"Number\",\n",
    "        \"default_value\": 1.0, \n",
    "        \"units\" : \"\", \n",
    "        \"options\":{},\n",
    "        \"label\" : \"Surrounding Medium Refractive Index\",\n",
    "        \"description\" : '''Enter the refractive index of the surrounding medium''',\n",
    "    },\n",
    "    \"radius\" : {\n",
    "        \"type\":\"Number\",\n",
    "        \"default_value\": 20, \n",
    "        \"units\" : \"nm\", \n",
    "        \"options\":{},\n",
    "        \"label\" : \"Radius of particle\",\n",
    "        \"description\" : '''Radius of particle''',\n",
    "    },\n",
    "    \"bwavel\" : {\n",
    "        \"type\":\"Number\",\n",
    "        \"default_value\": 300, \n",
    "        \"units\" : \"nm\", \n",
    "        \"options\":{},\n",
    "        \"label\" : \"Beginning wavelength\",\n",
    "        \"description\" : '''Beginning wavelength''',\n",
    "    },   \n",
    "    \"ewavel\" : {\n",
    "        \"type\":\"Number\",\n",
    "        \"default_value\": 1000, \n",
    "        \"units\" : \"nm\", \n",
    "        \"options\":{},\n",
    "        \"label\" : \"Ending wavelength\",\n",
    "        \"description\" : '''Ending wavelength''',\n",
    "    },\n",
    "}\n",
    "#SETTINGS        "
   ]
  },
  {
   "cell_type": "markdown",
   "metadata": {},
   "source": [
    "## Defining Input Layout"
   ]
  },
  {
   "cell_type": "code",
   "execution_count": 10,
   "metadata": {},
   "outputs": [],
   "source": [
    "LAYOUT = {\n",
    "    'input': {\n",
    "        'type': 'group',\n",
    "        'id': '',\n",
    "        'label': '',\n",
    "        'layout': '',\n",
    "        'children': [\n",
    "            { 'type': 'choice', 'id': 'mat', 'label': 'Particle Composition'},\n",
    "            { 'type': 'number', 'id': 'cindex', 'label': 'Particle Refractive Index', 'enable': [\n",
    "                {'operand': 'mat', 'operator': '==', 'value': \"Constant\"}\n",
    "            ]},\n",
    "            { 'type': 'number', 'id': 'refmed', 'label': 'Surrounding Medium Refractive Index'},\n",
    "            { 'type': 'number', 'id': 'radius', 'label': 'Radius of particle'},\n",
    "            {'type': 'group', 'label': 'wavelength range', 'layout': 'horizontal', 'children': [\n",
    "                {'type': 'number', 'id': 'bwavel', 'label': 'Beginning wavelength', 'enable': None},\n",
    "                {'type': 'number', 'id': 'ewavel', 'label': 'Ending wavelength', 'enable': None}\n",
    "            ]}\n",
    "        ]\n",
    "    }\n",
    "}\n",
    "#LAYOUT"
   ]
  },
  {
   "cell_type": "markdown",
   "metadata": {},
   "source": [
    "## Creating the Parameters/Inputs panel"
   ]
  },
  {
   "cell_type": "code",
   "execution_count": 11,
   "metadata": {},
   "outputs": [],
   "source": [
    "url_sim = \"https://dev.nanohub.org/api/querycache/squidlog/proxy?url=https://nanohub.org/api/tools\"\n",
    "NsopticsSettings = AppBuilder.Settings(\n",
    "    Project,\n",
    "    Component, \n",
    "    SETTINGS,\n",
    "    url=url_sim,\n",
    "    toolname = TOOLNAME,\n",
    "    layout = LAYOUT['input']\n",
    ")\n",
    "NsopticsSettings.content.events[\"onError\"]=[\n",
    "    { \"type\": \"stateChange\", \"modifies\": STATE_LOADER_OPEN,\"newState\": False},\n",
    "    { \"type\": \"stateChange\", \"modifies\": STATE_ERROR_OPEN,\"newState\": True},\n",
    "    { \"type\": \"stateChange\", \"modifies\": STATE_ERROR_STATUS,\"newState\": '$e'},\n",
    "]\n",
    "NsopticsSettings.content.events[\"click\"]=[\n",
    "    { \"type\": \"stateChange\", \"modifies\": STATE_LOADER_OPEN,\"newState\": True}\n",
    "]\n",
    "NsopticsSettings.content.events[\"submit\"] = [\n",
    "    { \"type\": \"stateChange\", \"modifies\": \"parameters\",\"newState\": '$e.target.value'}\n",
    "]\n"
   ]
  },
  {
   "cell_type": "markdown",
   "metadata": {},
   "source": [
    "## Defining output parameters"
   ]
  },
  {
   "cell_type": "code",
   "execution_count": 12,
   "metadata": {},
   "outputs": [],
   "source": [
    "RapptureBuilder.loadXY(Project, Component)\n",
    "RapptureBuilder.loadSequence(Project, Component)\n",
    "RESULTS = {\n",
    "    \"ESC\" : {\n",
    "        'title' : 'Extinction Cross Section',\n",
    "        'action' : { \"type\": \"propCall2\", \"calls\": \"loadXY\",\"args\": [\"self\", \"['ESC']\"] },\n",
    "    },\n",
    "    \"SCA\" : {\n",
    "        'title' : 'Scattering Cross Section',\n",
    "        'action' : { \"type\": \"propCall2\", \"calls\": \"loadXY\",\"args\": [\"self\", \"['SCA']\"] },\n",
    "    },\n",
    "    \"ABS\" : {\n",
    "        'title' : 'Absortion Cross section',\n",
    "        'action' : { \"type\": \"propCall2\", \"calls\": \"loadXY\",\"args\": [\"self\", \"['ABS']\"] },\n",
    "    },\n",
    "    \"REP\" : {\n",
    "        'title' : 'Real(Dielectric Constant)',\n",
    "        'action' : { \"type\": \"propCall2\", \"calls\": \"loadXY\",\"args\": [\"self\", \"['REP']\"] },\n",
    "    },\n",
    "    \"IEP\" : {\n",
    "        'title' : 'Imaginary(Dielectric Constant)',\n",
    "        'action' : { \"type\": \"propCall2\", \"calls\": \"loadXY\",\"args\": [\"self\", \"['IEP']\"] },\n",
    "    },\n",
    "}\n",
    "\n",
    "NsopticsResults = AppBuilder.Results( \n",
    "    Component,\n",
    "    results = RESULTS,\n",
    "    onClick = [{ \"type\": \"stateChange\", \"modifies\": STATE_LOADER_OPEN,\"newState\": True }],\n",
    "    onLoad = [{ \"type\": \"stateChange\", \"modifies\": STATE_LOADER_OPEN,\"newState\": False }],\n",
    ")\n",
    "NsopticsSettings.content.events[\"onStatusChange\"]=[\n",
    "    { \"type\": \"stateChange\", \"modifies\": STATE_LOADER_STATUS,\"newState\": \"$e.target.value\"}\n",
    "]\n",
    "NsopticsSettings.content.events[\"onSuccess\"]=[\n",
    "  { \"type\": \"stateChange\", \"modifies\": \"open_plot\",\"newState\":{'ESC':'primary'} },\n",
    "  { \"type\": \"propCall2\", \"calls\": \"loadXY\",\"args\": [\"self\", \"['ESC']\"]},\n",
    "  { \"type\": \"stateChange\", \"modifies\": STATE_LOADER_OPEN,\"newState\": False },  \n",
    "  { \"type\": \"stateChange\", \"modifies\": \"open_results\",\"newState\": True},\n",
    "  { \"type\": \"stateChange\", \"modifies\": \"open_params\",\"newState\": False},\n",
    "]"
   ]
  },
  {
   "cell_type": "markdown",
   "metadata": {},
   "source": [
    "## Creating Colorschema and adding nanoHUB logo"
   ]
  },
  {
   "cell_type": "code",
   "execution_count": 13,
   "metadata": {},
   "outputs": [],
   "source": [
    "ThemeProvider = MaterialBuilder.ThemeProvider( Component, MaterialBuilder.DefaultTheme(\n",
    "    primary_color = '#699FBB',\n",
    "    secondary_color = '#f1f1f1',\n",
    "    primary_bg = '#FFFFFF',\n",
    "    secondary_bg = '#dbeaf0',\n",
    "    default_button = 'rgba(255, 255, 255, 0.87)',\n",
    "    primary_button = 'rgba(255, 255, 255, 0.87)',\n",
    "    secondary_button = 'rgba(0, 0, 0, 0.87)',\n",
    "    default_button_bg = 'rgb(63, 162, 192)',\n",
    "    primary_button_bg = 'rgba(0, 0, 0, 0.65)',\n",
    "    secondary_button_bg = 'rgba(0, 0, 0, 0.12)',    \n",
    "))\n",
    "\n",
    "AppBar = MaterialBuilder.AppBar(\n",
    "    state=\"DrawerIsVisible\", \n",
    "    styles=(\"AppBarStyle\", [\"bar_shifted\", \"bar_normal\"]),\n",
    "    title=\"Nanosphere Optics Lab\"\n",
    ")\n",
    "\n",
    "logo = t.TeleportElement(t.TeleportContent(elementType=\"img\"))\n",
    "logo.content.attrs[\"width\"] = \"120\"\n",
    "logo.content.attrs[\"src\"] = \"https://nanohub.org/app/site/media/images/PressKit/nanoHUB_logo_color.jpg\"\n",
    "AppBar.content.children[0].addContent(logo)"
   ]
  },
  {
   "cell_type": "markdown",
   "metadata": {},
   "source": [
    "## Creating Collapsable panels, for input and output parameters "
   ]
  },
  {
   "cell_type": "code",
   "execution_count": 14,
   "metadata": {},
   "outputs": [],
   "source": [
    "Project.globals.assets.append({\"type\": \"style\", \"content\": \".bar_shifted {margin-left:350px;}\"})\n",
    "Project.globals.assets.append({ \"type\": \"style\", \"content\": \".bar_normal {margin-left:0px}\"})\n",
    "ExpansionPanel = MaterialBuilder.ExpansionPanel(\n",
    "    title=\"Results\", \n",
    "    content=[NsopticsResults],\n",
    "    expanded={\n",
    "      \"type\": \"dynamic\",\n",
    "      \"content\": {\n",
    "        \"referenceType\": \"state\",\n",
    "        \"id\": \"open_results\"\n",
    "      }    \n",
    "    },     \n",
    ")\n",
    "ExpansionPanel.content.events['change'] = [{ \"type\": \"stateChange\", \"modifies\": \"open_results\",\"newState\": \"$toggle\"}]\n",
    "Drawer.addContent(ExpansionPanel)\n",
    "\n",
    "ParametersPanel = MaterialBuilder.ExpansionPanel(\n",
    "    title=\"Parameters\", \n",
    "    expanded={\n",
    "      \"type\": \"dynamic\",\n",
    "      \"content\": {\n",
    "        \"referenceType\": \"state\",\n",
    "        \"id\": \"open_params\"\n",
    "      }    \n",
    "    }, \n",
    "    content=[NsopticsSettings]\n",
    ")\n",
    "ParametersPanel.content.events['change'] = [{ \"type\": \"stateChange\", \"modifies\": \"open_params\",\"newState\": \"$toggle\"}]\n",
    "Drawer.addContent(ParametersPanel)\n"
   ]
  },
  {
   "cell_type": "markdown",
   "metadata": {},
   "source": [
    "## Creating Reset button"
   ]
  },
  {
   "cell_type": "code",
   "execution_count": 15,
   "metadata": {},
   "outputs": [],
   "source": [
    "Gridt = t.TeleportElement(MaterialContent(elementType=\"Grid\"))\n",
    "Gridt.content.attrs[\"color\"] = \"secondary\"\n",
    "Gridt.content.attrs[\"container\"] = True\n",
    "Gridt.content.attrs[\"direction\"] = \"column\"\n",
    "resetSettings = {}\n",
    "for k,v in SETTINGS.items():\n",
    "    resetSettings[k] = v[\"default_value\"]\n",
    "\n",
    "Buttontt= MaterialBuilder.Button(\n",
    "      title = \"Reset Setting\", \n",
    "      variant = \"text\", \n",
    "      style = {'backgroundColor':'#999999', 'borderRadius' : '0px', 'minHeight':'40px', 'color':'rgba(255, 255, 255, 0.87)'}, \n",
    "      onClickButton=[{ \"type\": \"stateChange\", \"modifies\": \"parameters\",\"newState\": resetSettings}]\n",
    ")\n",
    "Gridt.addContent(Buttontt)\n",
    "Drawer.addContent(Gridt)"
   ]
  },
  {
   "cell_type": "markdown",
   "metadata": {},
   "source": [
    "## Creating ploting component"
   ]
  },
  {
   "cell_type": "code",
   "execution_count": 16,
   "metadata": {},
   "outputs": [],
   "source": [
    "BasePlot = PlotlyBuilder.BasePlot( Project, Component)"
   ]
  },
  {
   "cell_type": "markdown",
   "metadata": {},
   "source": [
    "## Assembling the app"
   ]
  },
  {
   "cell_type": "code",
   "execution_count": 17,
   "metadata": {
    "scrolled": false
   },
   "outputs": [],
   "source": [
    "Gridh = t.TeleportElement(MaterialContent(elementType=\"Grid\"))\n",
    "Gridh.content.attrs[\"container\"] = True\n",
    "Gridh.content.attrs[\"direction\"] = \"row\" \n",
    "Gridh.addContent(Drawer)\n",
    "Gridh.addContent(BasePlot)  \n",
    "\n",
    "Gridv = t.TeleportElement(MaterialContent(elementType=\"Grid\"))\n",
    "Gridv.content.attrs[\"container\"] = True\n",
    "Gridv.content.attrs[\"direction\"] = \"column\"\n",
    "Gridv.addContent(AppBar)\n",
    "Gridv.addContent(Gridh)\n",
    "\n",
    "\n",
    "ThemeProvider.addContent(Gridv)\n",
    "ThemeProvider.addContent(Loader)\n",
    "ThemeProvider.addContent(ErrorMessage)\n",
    "ThemeProvider.addContent(Login)\n",
    "\n",
    "Component.addNode(ThemeProvider)\n",
    "Project.buildReact( TOOLNAME+auth_data[\"sessiontoken\"]+\".html\");"
   ]
  },
  {
   "cell_type": "markdown",
   "metadata": {},
   "source": [
    "## Displaying the app in jupyter"
   ]
  },
  {
   "cell_type": "code",
   "execution_count": 18,
   "metadata": {
    "scrolled": false
   },
   "outputs": [
    {
     "data": {
      "text/html": [
       "\n",
       "        <iframe\n",
       "            width=\"100%\"\n",
       "            height=\"800\"\n",
       "            src=\"nsopticsOIRupp4psycYIsPXpCAfXWdXxRDCC5zg.html\"\n",
       "            frameborder=\"0\"\n",
       "            allowfullscreen\n",
       "        ></iframe>\n",
       "        "
      ],
      "text/plain": [
       "<IPython.lib.display.IFrame at 0x7f541cb241d0>"
      ]
     },
     "metadata": {},
     "output_type": "display_data"
    }
   ],
   "source": [
    "from IPython.core.display import display\n",
    "from IPython.display import IFrame\n",
    "display(IFrame(src=TOOLNAME+auth_data[\"sessiontoken\"]+\".html\", width=\"100%\", height=\"800\"))"
   ]
  },
  {
   "cell_type": "code",
   "execution_count": null,
   "metadata": {},
   "outputs": [],
   "source": []
  },
  {
   "cell_type": "code",
   "execution_count": null,
   "metadata": {},
   "outputs": [],
   "source": []
  },
  {
   "cell_type": "code",
   "execution_count": null,
   "metadata": {},
   "outputs": [],
   "source": []
  }
 ],
 "metadata": {
  "kernelspec": {
   "display_name": "Python 3",
   "language": "python",
   "name": "python3"
  },
  "language_info": {
   "codemirror_mode": {
    "name": "ipython",
    "version": 3
   },
   "file_extension": ".py",
   "mimetype": "text/x-python",
   "name": "python",
   "nbconvert_exporter": "python",
   "pygments_lexer": "ipython3",
   "version": "3.7.3"
  }
 },
 "nbformat": 4,
 "nbformat_minor": 2
}
