{
 "cells": [
  {
   "cell_type": "code",
   "execution_count": 1,
   "metadata": {},
   "outputs": [],
   "source": [
    "import nanohubtools as nt\n",
    "from mysecrets import auth_data\n",
    "from ipywidgets import Output, Button\n",
    "from nanohubtools import Qdotexplorer"
   ]
  },
  {
   "cell_type": "code",
   "execution_count": 2,
   "metadata": {},
   "outputs": [],
   "source": [
    "parameters = ['Shape', 'X Dimensions', 'Y Dimensions', 'Z Dimensions', 'Lattice Constant', 'Energy gap', 'Effective Mass']\n",
    "val = auth_data\n",
    "#val = {}\n",
    "a = nt.Qdotexplorer(val, parameters=parameters, mode='split-right')"
   ]
  },
  {
   "cell_type": "code",
   "execution_count": 3,
   "metadata": {},
   "outputs": [],
   "source": [
    "experiment = { 'parameters': { 'Shape':'Cuboid', 'X Dimensions':'10nm', 'Y Dimensions':'10.5nm', 'Z Dimensions':'5nm', 'Lattice Constant':'0.565nm', 'Energy gap':'1.43eV', 'Effective Mass':'0.067' } }\n",
    "a.addExperiment(experiment)\n",
    "#a.loadExperiment('1485409')"
   ]
  },
  {
   "cell_type": "code",
   "execution_count": 4,
   "metadata": {},
   "outputs": [
    {
     "data": {
      "text/plain": [
       "[{'parameters': {'Shape': 'Cuboid',\n",
       "   'X Dimensions': '10nm',\n",
       "   'Y Dimensions': '10.5nm',\n",
       "   'Z Dimensions': '5nm',\n",
       "   'Lattice Constant': '0.565nm',\n",
       "   'Energy gap': '1.43eV',\n",
       "   'Effective Mass': '0.067'},\n",
       "  'session_id': None,\n",
       "  'complete': False,\n",
       "  'results': '',\n",
       "  'output': Output(),\n",
       "  'status': Label(value='New', layout=Layout(width='auto'))}]"
      ]
     },
     "execution_count": 4,
     "metadata": {},
     "output_type": "execute_result"
    }
   ],
   "source": [
    "a.experiments"
   ]
  },
  {
   "cell_type": "code",
   "execution_count": null,
   "metadata": {},
   "outputs": [],
   "source": []
  },
  {
   "cell_type": "code",
   "execution_count": null,
   "metadata": {},
   "outputs": [],
   "source": []
  },
  {
   "cell_type": "code",
   "execution_count": null,
   "metadata": {},
   "outputs": [],
   "source": []
  }
 ],
 "metadata": {
  "kernelspec": {
   "display_name": "Python 3",
   "language": "python",
   "name": "python3"
  },
  "language_info": {
   "codemirror_mode": {
    "name": "ipython",
    "version": 3
   },
   "file_extension": ".py",
   "mimetype": "text/x-python",
   "name": "python",
   "nbconvert_exporter": "python",
   "pygments_lexer": "ipython3",
   "version": "3.6.6"
  }
 },
 "nbformat": 4,
 "nbformat_minor": 2
}
