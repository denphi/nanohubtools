{
 "cells": [
  {
   "cell_type": "code",
   "execution_count": null,
   "metadata": {},
   "outputs": [],
   "source": [
    "import nanohubtools as nt\n",
    "from mysecrets import auth_data\n",
    "from ipywidgets import Output, Button\n",
    "from nanohubtools import Qdotexplorer"
   ]
  },
  {
   "cell_type": "code",
   "execution_count": null,
   "metadata": {},
   "outputs": [],
   "source": [
    "parameters = ['Shape', 'X Dimensions', 'Y Dimensions', 'Z Dimensions', 'Lattice Constant', 'Energy gap', 'Effective Mass']\n",
    "val = auth_data\n",
    "#val = {}\n",
    "a = nt.Qdotexplorer(val, parameters=parameters, mode='split-right')"
   ]
  },
  {
   "cell_type": "code",
   "execution_count": null,
   "metadata": {},
   "outputs": [],
   "source": [
    "#experiment = { 'parameters': { 'Shape':'Cuboid', 'X Dimensions':'10nm', 'Y Dimensions':'10.5nm', 'Z Dimensions':'5nm', 'Lattice Constant':'0.565nm', 'Energy gap':'1.43eV', 'Effective Mass':'0.067' } }\n",
    "#a.addExperiment(experiment)\n",
    "#a.loadExperiment('1485071')"
   ]
  }
 ],
 "metadata": {
  "kernelspec": {
   "display_name": "Python 3",
   "language": "python",
   "name": "python3"
  },
  "language_info": {
   "codemirror_mode": {
    "name": "ipython",
    "version": 3
   },
   "file_extension": ".py",
   "mimetype": "text/x-python",
   "name": "python",
   "nbconvert_exporter": "python",
   "pygments_lexer": "ipython3",
   "version": "3.6.6"
  }
 },
 "nbformat": 4,
 "nbformat_minor": 2
}
